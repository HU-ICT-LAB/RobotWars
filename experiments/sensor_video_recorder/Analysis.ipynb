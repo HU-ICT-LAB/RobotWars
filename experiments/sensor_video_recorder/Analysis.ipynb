{
 "cells": [
  {
   "cell_type": "code",
   "execution_count": 14,
   "id": "f473db22-cbc4-4d7c-95e5-9797efbec6bd",
   "metadata": {},
   "outputs": [],
   "source": [
    "import pandas as pd\n",
    "import matplotlib.pyplot as plt\n",
    "import matplotlib.animation as animation\n",
    "import glob\n",
    "import numpy as np\n",
    "import cv2"
   ]
  },
  {
   "cell_type": "code",
   "execution_count": 15,
   "id": "35505364-3edf-4514-9fcf-76ac82e19231",
   "metadata": {
    "tags": []
   },
   "outputs": [
    {
     "data": {
      "text/html": [
       "<div>\n",
       "<style scoped>\n",
       "    .dataframe tbody tr th:only-of-type {\n",
       "        vertical-align: middle;\n",
       "    }\n",
       "\n",
       "    .dataframe tbody tr th {\n",
       "        vertical-align: top;\n",
       "    }\n",
       "\n",
       "    .dataframe thead th {\n",
       "        text-align: right;\n",
       "    }\n",
       "</style>\n",
       "<table border=\"1\" class=\"dataframe\">\n",
       "  <thead>\n",
       "    <tr style=\"text-align: right;\">\n",
       "      <th></th>\n",
       "      <th>datetime</th>\n",
       "      <th>x</th>\n",
       "      <th>y</th>\n",
       "      <th>z</th>\n",
       "    </tr>\n",
       "  </thead>\n",
       "  <tbody>\n",
       "    <tr>\n",
       "      <th>0</th>\n",
       "      <td>2021-10-26 17:14:46.296338</td>\n",
       "      <td>0.00000</td>\n",
       "      <td>0.00000</td>\n",
       "      <td>0.0</td>\n",
       "    </tr>\n",
       "    <tr>\n",
       "      <th>1</th>\n",
       "      <td>2021-10-26 17:14:46.299381</td>\n",
       "      <td>-1.93832</td>\n",
       "      <td>-6.38489</td>\n",
       "      <td>0.0</td>\n",
       "    </tr>\n",
       "    <tr>\n",
       "      <th>2</th>\n",
       "      <td>2021-10-26 17:14:46.356930</td>\n",
       "      <td>0.00004</td>\n",
       "      <td>-0.00003</td>\n",
       "      <td>0.0</td>\n",
       "    </tr>\n",
       "    <tr>\n",
       "      <th>3</th>\n",
       "      <td>2021-10-26 17:14:46.418864</td>\n",
       "      <td>0.00003</td>\n",
       "      <td>-0.00007</td>\n",
       "      <td>0.0</td>\n",
       "    </tr>\n",
       "    <tr>\n",
       "      <th>4</th>\n",
       "      <td>2021-10-26 17:14:46.458030</td>\n",
       "      <td>0.00005</td>\n",
       "      <td>-0.00007</td>\n",
       "      <td>0.0</td>\n",
       "    </tr>\n",
       "    <tr>\n",
       "      <th>5</th>\n",
       "      <td>2021-10-26 17:14:46.516357</td>\n",
       "      <td>0.00004</td>\n",
       "      <td>-0.00005</td>\n",
       "      <td>0.0</td>\n",
       "    </tr>\n",
       "  </tbody>\n",
       "</table>\n",
       "</div>"
      ],
      "text/plain": [
       "                    datetime        x        y    z\n",
       "0 2021-10-26 17:14:46.296338  0.00000  0.00000  0.0\n",
       "1 2021-10-26 17:14:46.299381 -1.93832 -6.38489  0.0\n",
       "2 2021-10-26 17:14:46.356930  0.00004 -0.00003  0.0\n",
       "3 2021-10-26 17:14:46.418864  0.00003 -0.00007  0.0\n",
       "4 2021-10-26 17:14:46.458030  0.00005 -0.00007  0.0\n",
       "5 2021-10-26 17:14:46.516357  0.00004 -0.00005  0.0"
      ]
     },
     "execution_count": 15,
     "metadata": {},
     "output_type": "execute_result"
    }
   ],
   "source": [
    "position_df = pd.read_csv('position.csv', sep=';', names=['datetime', 'x', 'y', 'z'])\n",
    "position_df['datetime'] = pd.to_datetime(position_df['datetime'])\n",
    "position_df[0:6]"
   ]
  },
  {
   "cell_type": "code",
   "execution_count": 16,
   "id": "15a17ee7-c8ca-441a-b47f-cb4c0475e969",
   "metadata": {},
   "outputs": [],
   "source": [
    "position_df['t_diff_from_last'] = [0] + [(position_df['datetime'][i] - position_df['datetime'][i-1]).microseconds for i in range(1, len(position_df))]\n",
    "position_df['distance_from_last'] = [0] + [\n",
    "    ((position_df['x'][i] - position_df['x'][i-1])**2 + (position_df['y'][i] - position_df['y'][i-1])**2)**.5\n",
    "    for i in range(1, len(position_df))\n",
    "]\n",
    "def weird_division(n, d):\n",
    "    return n / d if d else 0\n",
    "position_df['velocity'] = [weird_division(distance, time_step) for distance, time_step in zip(position_df['distance_from_last'], position_df['t_diff_from_last'])]\n",
    "position_df = position_df.drop(0).drop(1)"
   ]
  },
  {
   "cell_type": "code",
   "execution_count": 17,
   "id": "781c9094-f0e9-4f70-8f88-ab7ee7fb42c9",
   "metadata": {},
   "outputs": [
    {
     "data": {
      "text/html": [
       "<div>\n",
       "<style scoped>\n",
       "    .dataframe tbody tr th:only-of-type {\n",
       "        vertical-align: middle;\n",
       "    }\n",
       "\n",
       "    .dataframe tbody tr th {\n",
       "        vertical-align: top;\n",
       "    }\n",
       "\n",
       "    .dataframe thead th {\n",
       "        text-align: right;\n",
       "    }\n",
       "</style>\n",
       "<table border=\"1\" class=\"dataframe\">\n",
       "  <thead>\n",
       "    <tr style=\"text-align: right;\">\n",
       "      <th></th>\n",
       "      <th>x</th>\n",
       "      <th>y</th>\n",
       "      <th>z</th>\n",
       "      <th>t_diff_from_last</th>\n",
       "      <th>distance_from_last</th>\n",
       "      <th>velocity</th>\n",
       "    </tr>\n",
       "  </thead>\n",
       "  <tbody>\n",
       "    <tr>\n",
       "      <th>count</th>\n",
       "      <td>603.000000</td>\n",
       "      <td>603.000000</td>\n",
       "      <td>603.0</td>\n",
       "      <td>603.000000</td>\n",
       "      <td>603.000000</td>\n",
       "      <td>6.030000e+02</td>\n",
       "    </tr>\n",
       "    <tr>\n",
       "      <th>mean</th>\n",
       "      <td>-0.132506</td>\n",
       "      <td>0.339310</td>\n",
       "      <td>0.0</td>\n",
       "      <td>51912.354892</td>\n",
       "      <td>0.021086</td>\n",
       "      <td>4.044340e-07</td>\n",
       "    </tr>\n",
       "    <tr>\n",
       "      <th>std</th>\n",
       "      <td>0.436950</td>\n",
       "      <td>0.298100</td>\n",
       "      <td>0.0</td>\n",
       "      <td>14169.989711</td>\n",
       "      <td>0.272021</td>\n",
       "      <td>4.733644e-06</td>\n",
       "    </tr>\n",
       "    <tr>\n",
       "      <th>min</th>\n",
       "      <td>-1.076510</td>\n",
       "      <td>-0.000070</td>\n",
       "      <td>0.0</td>\n",
       "      <td>1204.000000</td>\n",
       "      <td>0.000000</td>\n",
       "      <td>0.000000e+00</td>\n",
       "    </tr>\n",
       "    <tr>\n",
       "      <th>25%</th>\n",
       "      <td>-0.272225</td>\n",
       "      <td>0.123265</td>\n",
       "      <td>0.0</td>\n",
       "      <td>40859.000000</td>\n",
       "      <td>0.000194</td>\n",
       "      <td>3.752167e-09</td>\n",
       "    </tr>\n",
       "    <tr>\n",
       "      <th>50%</th>\n",
       "      <td>-0.269380</td>\n",
       "      <td>0.138700</td>\n",
       "      <td>0.0</td>\n",
       "      <td>54893.000000</td>\n",
       "      <td>0.000631</td>\n",
       "      <td>1.325340e-08</td>\n",
       "    </tr>\n",
       "    <tr>\n",
       "      <th>75%</th>\n",
       "      <td>0.415835</td>\n",
       "      <td>0.631730</td>\n",
       "      <td>0.0</td>\n",
       "      <td>60993.500000</td>\n",
       "      <td>0.007495</td>\n",
       "      <td>1.451089e-07</td>\n",
       "    </tr>\n",
       "    <tr>\n",
       "      <th>max</th>\n",
       "      <td>0.712570</td>\n",
       "      <td>0.845460</td>\n",
       "      <td>0.0</td>\n",
       "      <td>111749.000000</td>\n",
       "      <td>6.672606</td>\n",
       "      <td>1.159465e-04</td>\n",
       "    </tr>\n",
       "  </tbody>\n",
       "</table>\n",
       "</div>"
      ],
      "text/plain": [
       "                x           y      z  t_diff_from_last  distance_from_last  \\\n",
       "count  603.000000  603.000000  603.0        603.000000          603.000000   \n",
       "mean    -0.132506    0.339310    0.0      51912.354892            0.021086   \n",
       "std      0.436950    0.298100    0.0      14169.989711            0.272021   \n",
       "min     -1.076510   -0.000070    0.0       1204.000000            0.000000   \n",
       "25%     -0.272225    0.123265    0.0      40859.000000            0.000194   \n",
       "50%     -0.269380    0.138700    0.0      54893.000000            0.000631   \n",
       "75%      0.415835    0.631730    0.0      60993.500000            0.007495   \n",
       "max      0.712570    0.845460    0.0     111749.000000            6.672606   \n",
       "\n",
       "           velocity  \n",
       "count  6.030000e+02  \n",
       "mean   4.044340e-07  \n",
       "std    4.733644e-06  \n",
       "min    0.000000e+00  \n",
       "25%    3.752167e-09  \n",
       "50%    1.325340e-08  \n",
       "75%    1.451089e-07  \n",
       "max    1.159465e-04  "
      ]
     },
     "execution_count": 17,
     "metadata": {},
     "output_type": "execute_result"
    }
   ],
   "source": [
    "position_df.describe()"
   ]
  },
  {
   "cell_type": "code",
   "execution_count": 22,
   "id": "adfc7b3d-98ef-4618-baa3-3d3bb46f4d86",
   "metadata": {},
   "outputs": [
    {
     "data": {
      "image/png": "[encoded data removed]",
      "text/plain": [
       "<Figure size 1728x864 with 1 Axes>"
      ]
     },
     "metadata": {
      "needs_background": "light"
     },
     "output_type": "display_data"
    }
   ],
   "source": [
    "x, y = position_df['x'], position_df['y']\n",
    "\n",
    "fig, ax = plt.subplots(figsize=(24, 12))\n",
    "line, = ax.plot(x, y, color='k')\n",
    "\n",
    "def update(num, x, y, line):\n",
    "    line.set_data(x[:num], y[:num])\n",
    "    line.axes.axis([-1.4, 1, -0.2, 1])\n",
    "    return line,\n",
    "\n",
    "ani = animation.FuncAnimation(fig, update, len(x), fargs=[x, y, line],\n",
    "                              interval=25, blit=True)\n",
    "ani.save('test.gif')\n",
    "plt.show()"
   ]
  },
  {
   "cell_type": "code",
   "execution_count": 6,
   "id": "92d789cc-c7b2-4d7f-bf5f-9e54e7276d47",
   "metadata": {},
   "outputs": [
    {
     "data": {
      "text/plain": [
       "'video_frames/2021-10-26 17:15:10.205401.png'"
      ]
     },
     "execution_count": 6,
     "metadata": {},
     "output_type": "execute_result"
    }
   ],
   "source": [
    "filepaths = glob.glob('video_frames/*.png')\n",
    "filepaths[1]"
   ]
  },
  {
   "cell_type": "code",
   "execution_count": 7,
   "id": "6473ec69-0de7-4a24-97d4-3fcf18d9b291",
   "metadata": {},
   "outputs": [],
   "source": [
    "img1 = cv2.imread(filepaths[1], 0)          # queryImage\n",
    "img2 = cv2.imread(filepaths[2], 0) # trainImage\n",
    "\n",
    "# Initiate SIFT detector\n",
    "orb = cv2.ORB_create()\n",
    "\n",
    "# find the keypoints and descriptors with SIFT\n",
    "kp1, des1 = orb.detectAndCompute(img1,None)\n",
    "kp2, des2 = orb.detectAndCompute(img2,None)"
   ]
  },
  {
   "cell_type": "code",
   "execution_count": null,
   "id": "52c0848e-95f7-4aa6-ad95-90aeaeb7f763",
   "metadata": {},
   "outputs": [],
   "source": [
    "bf = cv2.BFMatcher(cv2.NORM_HAMMING, crossCheck=True)\n",
    "\n",
    "# Match descriptors.\n",
    "matches = bf.match(des1,des2)\n",
    "\n",
    "# Sort them in the order of their distance.\n",
    "matches = sorted(matches, key = lambda x:x.distance)\n",
    "\n",
    "# Draw first 10 matches.\n",
    "img3 = cv2.drawMatches(img1,kp1,img2,kp2,matches, flags=2, outImg=None)\n",
    "\n",
    "cv2.imshow('image',img3)\n",
    "cv2.waitKey(0)"
   ]
  },
  {
   "cell_type": "code",
   "execution_count": null,
   "id": "4744f3db-3224-447b-8727-7433d08d2246",
   "metadata": {},
   "outputs": [],
   "source": []
  }
 ],
 "metadata": {
  "kernelspec": {
   "display_name": "Python 3",
   "language": "python",
   "name": "python3"
  },
  "language_info": {
   "codemirror_mode": {
    "name": "ipython",
    "version": 3
   },
   "file_extension": ".py",
   "mimetype": "text/x-python",
   "name": "python",
   "nbconvert_exporter": "python",
   "pygments_lexer": "ipython3",
   "version": "3.8.10"
  }
 },
 "nbformat": 4,
 "nbformat_minor": 5
}
